{
 "cells": [
  {
   "cell_type": "markdown",
   "id": "fa7a67d9-1345-4cee-9c4e-77ed24746e34",
   "metadata": {},
   "source": [
    "Q1. What are the three measures of central tendency?\n"
   ]
  },
  {
   "cell_type": "markdown",
   "id": "4052e3ac-8d03-4fce-b8b4-5cedc2a7af5f",
   "metadata": {},
   "source": [
    " The three measures of central tendency are:\n",
    "\n",
    "1. Mean: The mean is the sum of all values in a dataset divided by the total number of values. It represents the average value of a dataset.\n",
    "\n",
    "2. Median: The median is the middle value of a dataset when the values are arranged in ascending order. If there are an even number of values, the median is the average of the two middle values.\n",
    "\n",
    "3. Mode: The mode is the value that occurs most frequently in a dataset. If there are multiple values with the same highest frequency, the dataset is said to have multiple modes."
   ]
  },
  {
   "cell_type": "markdown",
   "id": "6728757b-6dd6-4415-a073-6417b5bafe02",
   "metadata": {},
   "source": [
    "Q2. What is the difference between the mean, median, and mode? How are they used to measure the \n",
    "central tendency of a dataset?"
   ]
  },
  {
   "cell_type": "markdown",
   "id": "df4091f9-9268-4910-a70e-b436e1500a65",
   "metadata": {},
   "source": [
    " Below is Comparison between mean, median, mode along with their use :\n",
    "\n",
    "| Measure of Central Tendency | Calculation | Sensitivity to Extreme Values | Usefulness | How they are used to measure central tendency |\n",
    "| --- | --- | --- | --- | --- |\n",
    "| Mean | Sum of all values / Total number of values | Sensitive | When the data is normally distributed or symmetrical | It represents the arithmetic average of the dataset |\n",
    "| Median | Middle value when data is ordered from lowest to highest or highest to lowest | Robust | When the data has extreme values or is skewed | It represents the value that splits the dataset in half |\n",
    "| Mode | Value that occurs most frequently in a dataset | Insensitive | When we want to know which value occurs most frequently in the data | It represents the most common value in the dataset |\n"
   ]
  },
  {
   "cell_type": "markdown",
   "id": "ff8eec54-b875-4eb6-8a06-c64d5b0674d1",
   "metadata": {},
   "source": [
    "Q3. Measure the three measures of central tendency for the given height data:\n"
   ]
  },
  {
   "cell_type": "markdown",
   "id": "8f383a30-ce0a-4587-9ccb-86d27ad45d42",
   "metadata": {},
   "source": [
    " [178,177,176,177,178.2,178,175,179,180,175,178.9,176.2,177,172.5,178,176.5]\n"
   ]
  },
  {
   "cell_type": "code",
   "execution_count": 2,
   "id": "f8232a83-2982-4aa9-80cd-fbd765ad9889",
   "metadata": {},
   "outputs": [],
   "source": [
    "heights = [178,177,176,177,178.2,178,175,179,180,175,178.9,176.2,177,172.5,178,176.5]"
   ]
  },
  {
   "cell_type": "code",
   "execution_count": 3,
   "id": "da818337-2114-44f3-bb50-5bbdf2ff01fb",
   "metadata": {},
   "outputs": [
    {
     "name": "stdout",
     "output_type": "stream",
     "text": [
      "Mean for given height data is 177.01875\n"
     ]
    }
   ],
   "source": [
    "import numpy as np\n",
    "heights_mean = np.mean(heights)\n",
    "print(f'Mean for given height data is {heights_mean}')"
   ]
  },
  {
   "cell_type": "code",
   "execution_count": 4,
   "id": "860b280d-0126-49c9-89f5-6eb9e8bdb952",
   "metadata": {},
   "outputs": [
    {
     "name": "stdout",
     "output_type": "stream",
     "text": [
      "Median for given height data is 177.0\n"
     ]
    }
   ],
   "source": [
    "heights_median = np.median(heights)\n",
    "print(f'Median for given height data is {heights_median}')"
   ]
  },
  {
   "cell_type": "code",
   "execution_count": 5,
   "id": "3adfffd2-73b2-4d6e-9f2e-51ce19410f48",
   "metadata": {},
   "outputs": [
    {
     "name": "stdout",
     "output_type": "stream",
     "text": [
      "Mode for given height data is ModeResult(mode=177.0, count=3)\n"
     ]
    }
   ],
   "source": [
    "from scipy.stats import mode\n",
    "heights_mode = mode(heights,keepdims=False)\n",
    "print(f'Mode for given height data is {heights_mode}')"
   ]
  },
  {
   "cell_type": "markdown",
   "id": "bb2c3916-6152-43a0-9921-93a0b8ed2991",
   "metadata": {},
   "source": [
    "Q4. Find the standard deviation for the given data:\n",
    "\n",
    "[178,177,176,177,178.2,178,175,179,180,175,178.9,176.2,177,172.5,178,176.5]"
   ]
  },
  {
   "cell_type": "code",
   "execution_count": 6,
   "id": "7e515692-f589-4d51-bcb3-34d41179d42c",
   "metadata": {},
   "outputs": [
    {
     "name": "stdout",
     "output_type": "stream",
     "text": [
      "Standard Deviation for give data is 1.7886\n"
     ]
    }
   ],
   "source": [
    "import numpy as np\n",
    "data = [178,177,176,177,178.2,178,175,179,180,175,178.9,176.2,177,172.5,178,176.5]\n",
    "data_std = np.std(data)\n",
    "print(f'Standard Deviation for give data is {round(data_std,4)}')"
   ]
  },
  {
   "cell_type": "markdown",
   "id": "a761b1a9-8805-4c35-a040-36e7bcf8afd2",
   "metadata": {},
   "source": [
    "Q5. How are measures of dispersion such as range, variance, and standard deviation used to describe \n",
    "the spread of a dataset? Provide an example."
   ]
  },
  {
   "cell_type": "markdown",
   "id": "812837ec-c328-4bc2-9bf0-539052606c39",
   "metadata": {},
   "source": [
    " Measures of dispersion, such as range, variance, and standard deviation, are used to describe how spread out the data in a dataset is. Here's how each measure is used:\n",
    "\n",
    "1. Range: The range is the difference between the maximum and minimum values in a dataset. It gives an idea of how much the values in the dataset vary from one another. A wider range indicates a more spread-out dataset, while a smaller range indicates a more tightly clustered dataset. For example, consider the following set of data: 10, 20, 30, 40, 50. The range is 50 - 10 = 40, which means the data spans a range of 40 units.\n",
    "~~~\n",
    "data = [10,20,30,40,50]\n",
    "range = max(data)-min(data)\n",
    "      = 50 - 10\n",
    "      = 40\n",
    "~~~\n",
    "\n",
    "2. Variance: Variance is a measure of how much the values in a dataset deviate from the mean. It is calculated by taking the sum of the squared differences between each value and the mean, divided by the total number of values. A higher variance indicates that the data is more spread out, while a lower variance indicates that the data is more tightly clustered around the mean. For example, consider the following set of data: 10, 20, 30, 40, 50. The mean is 30. The variance is calculated as follows:\n",
    "~~~\n",
    "variance = [(10 - 30)^2 + (20 - 30)^2 + (30 - 30)^2 + (40 - 30)^2 + (50 - 30)^2] / 5\n",
    "         = 200 / 5\n",
    "         = 40\n",
    "~~~\n",
    "\n",
    "3. Standard deviation: The standard deviation is the square root of the variance and is expressed in the same units as the data. It is a more intuitive measure of dispersion because it is in the same units as the data. A higher standard deviation indicates that the data is more spread out, while a lower standard deviation indicates that the data is more tightly clustered around the mean. For example, using the same set of data as above, the standard deviation is calculated as follows:\n",
    "~~~\n",
    "standard deviation = sqrt(variance)\n",
    "                   = sqrt(40)\n",
    "                   = 6.32 (approx.)\n",
    "~~~"
   ]
  },
  {
   "cell_type": "markdown",
   "id": "2a30535b-2c6a-49f2-bfa5-97b36f2e9471",
   "metadata": {},
   "source": [
    "| Measure of Dispersion | Calculation | Usefulness |\n",
    "| --- | --- | --- |\n",
    "| Range | Maximum value - Minimum value | Provides an idea of the spread of the dataset |\n",
    "| Variance | $\\frac{\\sum_{i=1}^{n}(x_i - \\bar{x})^2}{n-1}$ | Measures the degree of spread of the data |\n",
    "| Standard Deviation | $\\sqrt{\\frac{\\sum_{i=1}^{n}(x_i - \\bar{x})^2}{n-1}}$ | An intuitive measure of dispersion in the same units as the data |"
   ]
  },
  {
   "cell_type": "markdown",
   "id": "68495970-ac57-4661-a166-ae7de583c0cb",
   "metadata": {},
   "source": [
    "Q6. What is a Venn diagram?\n"
   ]
  },
  {
   "cell_type": "markdown",
   "id": "8c8a77d7-b846-46ab-a290-7fec5f9dc841",
   "metadata": {},
   "source": [
    "A Venn diagram is a graphical representation of sets or groups, which shows all possible logical relations between them. The diagram consists of overlapping circles or other shapes, with each circle representing a set, and the overlapping regions representing the intersection of the sets. The purpose of a Venn diagram is to visually demonstrate how different sets or groups relate to one another and how they overlap or differ.\n",
    "\n",
    "Venn diagrams are commonly used in mathematics, statistics, logic, and computer science to illustrate concepts such as set theory, probability, and logic operations. They can also be used in other fields to illustrate relationships between different categories or concepts."
   ]
  },
  {
   "cell_type": "markdown",
   "id": "6ffbe205-52ed-46f9-9d28-1a7cb95e90d4",
   "metadata": {},
   "source": [
    "![Example of Venn Diagram](https://amastyleinsider.com/wp-content/uploads/2021/07/Connieblogfig1-1.png)"
   ]
  },
  {
   "cell_type": "markdown",
   "id": "3241374a-7b16-427c-9d2f-93e32a8b3335",
   "metadata": {},
   "source": [
    "Q7. For the two given sets A = (2,3,4,5,6,7) & B = (0,2,6,8,10). Find:\n",
    "\n",
    "(i) \tA B\n",
    "\n",
    "(ii)\tA ⋃ B"
   ]
  },
  {
   "cell_type": "code",
   "execution_count": 7,
   "id": "20d3a7fa-feae-4383-aaa9-69741ac6bb33",
   "metadata": {},
   "outputs": [],
   "source": [
    "A = {2,3,4,5,6,7}\n",
    "B = {0,2,6,8,10}"
   ]
  },
  {
   "cell_type": "code",
   "execution_count": 8,
   "id": "d8c4e2f5-a3ac-4ff4-a746-51d92e5527d3",
   "metadata": {},
   "outputs": [
    {
     "data": {
      "text/plain": [
       "{0, 2, 3, 4, 5, 6, 7, 8, 10}"
      ]
     },
     "execution_count": 8,
     "metadata": {},
     "output_type": "execute_result"
    }
   ],
   "source": [
    "A.union(B)"
   ]
  },
  {
   "cell_type": "code",
   "execution_count": 9,
   "id": "bf7e743b-71d1-4401-b9b2-3271e2194844",
   "metadata": {},
   "outputs": [
    {
     "data": {
      "text/plain": [
       "{2, 6}"
      ]
     },
     "execution_count": 9,
     "metadata": {},
     "output_type": "execute_result"
    }
   ],
   "source": [
    "A.intersection(B)"
   ]
  },
  {
   "cell_type": "markdown",
   "id": "bd8e300b-035a-4819-bd9f-c01650f140a6",
   "metadata": {},
   "source": [
    "Q8. What do you understand about skewness in data?\n"
   ]
  },
  {
   "cell_type": "markdown",
   "id": "052073b9-5c5c-40c5-bd06-dc76930b5529",
   "metadata": {},
   "source": [
    "Skewness of data is a measure of the asymmetry of a probability distribution or dataset. It describes the extent to which a dataset is skewed or \"lopsided\" relative to a normal distribution. A distribution is said to be skewed if one of its tails is longer or heavier than the other, causing it to deviate from a perfectly symmetrical shape.\n",
    "\n",
    "Positive skewness occurs when the tail on the right side of the distribution is longer or heavier than the tail on the left side. This indicates that the dataset has more high values and fewer low values. \n",
    "\n",
    "Negative skewness occurs when the tail on the left side of the distribution is longer or heavier than the tail on the right side. This indicates that the dataset has more low values and fewer high values.\n",
    "\n",
    "Skewness can be measured using the skewness statistic. A skewness value of zero indicates that the dataset is perfectly symmetrical, while a positive or negative value indicates that the dataset is skewed in the corresponding direction. Skewness can be an important consideration when interpreting data, as it can affect the accuracy of statistical tests and the validity of certain assumptions about the data."
   ]
  },
  {
   "cell_type": "markdown",
   "id": "23579e2f-4895-4c07-8aaf-692a6834d56e",
   "metadata": {},
   "source": [
    "![Skewness](https://www.managedfuturesinvesting.com/images/default-source/default-album/measure-of-skewness.jpg?sfvrsn=0)"
   ]
  },
  {
   "cell_type": "markdown",
   "id": "8afe7166-8047-4464-ae4d-7d8961c1e1cb",
   "metadata": {},
   "source": [
    "### $\\text{Skewness} = \\frac{\\frac{1}{n} \\sum_{i=1}^{n}(x_i - \\bar{x})^3}{\\left(\\frac{1}{n} \\sum_{i=1}^{n}(x_i - \\bar{x})^2\\right)^{3/2}}$"
   ]
  },
  {
   "cell_type": "markdown",
   "id": "ed93c1fc-718b-4f78-b4c4-bba5448bc124",
   "metadata": {},
   "source": [
    "Q9. If a data is right skewed then what will be the position of median with respect to mean?\n"
   ]
  },
  {
   "cell_type": "markdown",
   "id": "4c8a3112-eabc-4f94-ba40-79352eb258c7",
   "metadata": {},
   "source": [
    "If a data is right skewed, then the median will be less than the mean. \n",
    "\n",
    "In a right-skewed distribution, the tail of the distribution is longer on the right side, and this elongation pulls the mean to the right of the median. \n",
    "\n",
    "Therefore, the mean is greater than the median in a right-skewed distribution."
   ]
  },
  {
   "cell_type": "markdown",
   "id": "72181bed-2089-41ab-a2ee-e54c98a61c2c",
   "metadata": {},
   "source": [
    "![Right Distribution](https://i0.wp.com/statisticsbyjim.com/wp-content/uploads/2021/10/Right_skewed_central_tendency.png?w=576&ssl=1)"
   ]
  },
  {
   "cell_type": "markdown",
   "id": "b3ab031d-87af-4c53-a79d-2113b4cc49e1",
   "metadata": {},
   "source": [
    "Q10. Explain the difference between covariance and correlation. How are these measures used in \n",
    "statistical analysis?"
   ]
  },
  {
   "cell_type": "markdown",
   "id": "39490842-e28a-413e-b1f9-8791c564ef2a",
   "metadata": {},
   "source": [
    " 1. Covariance : Covariance measures the extent to which two variables vary together. Specifically, it measures the degree to which two variables deviate from their means in similar ways. Mathematically, the covariance between two variables X and Y is calculated as follows:\n",
    "\n",
    "~~~\n",
    "cov(X,Y) = E[(X - E[X])(Y - E[Y])]\n",
    "~~~\n",
    "\n",
    " The value of the covariance can range from negative infinity to positive infinity. A positive covariance indicates that the two variables tend to move in the same direction, while a negative covariance indicates that the two variables tend to move in opposite directions. A covariance of zero indicates that the two variables are uncorrelated."
   ]
  },
  {
   "cell_type": "markdown",
   "id": "8b097074-4913-45f4-bf3f-f92b9d31b0c2",
   "metadata": {},
   "source": [
    " 2. Correlation : Correlation, on the other hand, is a standardized measure of the linear relationship between two variables. Correlation takes on values between -1 and 1, where a correlation of 1 indicates a perfect positive relationship, a correlation of -1 indicates a perfect negative relationship, and a correlation of 0 indicates no linear relationship.\n",
    "\n",
    " The correlation coefficient between two variables X and Y is calculated as follows:\n",
    "\n",
    "~~~\n",
    "corr(X,Y) = cov(X,Y) / (SD[X]*SD[Y])\n",
    "~~~\n",
    "\n",
    " Correlation is a more commonly used measure than covariance, because it is standardized and easier to interpret. Correlation can also be used to compare the strength of the relationship between different pairs of variables on a common scale."
   ]
  },
  {
   "cell_type": "markdown",
   "id": "b804291b-8f43-4667-977c-fd526e4039d9",
   "metadata": {},
   "source": [
    "| Measure | Definition | Range |\n",
    "|---------|------------|-------|\n",
    "| Covariance | $cov(X,Y) = E[(X - E[X])(Y - E[Y])]$ | $(-\\infty, \\infty)$ |\n",
    "| Correlation | $corr(X,Y) = \\frac{cov(X,Y)}{SD[X]SD[Y]}$ | $[-1, 1]$ |"
   ]
  },
  {
   "cell_type": "markdown",
   "id": "23489b74-d747-4085-8602-5556d7cecebd",
   "metadata": {},
   "source": [
    "Q11. What is the formula for calculating the sample mean? Provide an example calculation for a \n",
    "dataset."
   ]
  },
  {
   "cell_type": "markdown",
   "id": "142bd526-0b68-44dd-82d4-2da1ddd193ba",
   "metadata": {},
   "source": [
    " The formula for calculating the sample mean is:\n",
    "\n",
    "~~~\n",
    "x̄ = (x₁ + x₂ + ... + xn) / n\n",
    "~~~\n",
    "\n",
    " where x₁, x₂, ..., xn are the values in the dataset, and n is the number of values in the sample."
   ]
  },
  {
   "cell_type": "markdown",
   "id": "dd63532d-c099-4050-a1e0-6cbab8180af0",
   "metadata": {},
   "source": [
    " Consider below 5 Values were sampled from a larger dataset \n",
    "\n",
    "~~~\n",
    "Sample: 4, 6, 2, 9, 5\n",
    "\n",
    "x̄ = (4 + 6 + 2 + 9 + 5) / 5\n",
    "x̄ = 26 / 5\n",
    "x̄ = 5.2\n",
    "~~~"
   ]
  },
  {
   "cell_type": "markdown",
   "id": "640ddb47-2f19-4e0b-adb5-73a9f4c0ccf7",
   "metadata": {},
   "source": [
    "Q12. For a normal distribution data what is the relationship between its measure of central tendency?\n"
   ]
  },
  {
   "cell_type": "markdown",
   "id": "5d48afbd-ef68-46fb-a0d1-e14fdb9d3fe5",
   "metadata": {},
   "source": [
    " For a normal distribution, the three measures of central tendency (mean, median, and mode) are all equal. This is because a normal distribution is symmetric around the mean, so the median (which is the middle value when the data is arranged in order) is also the mean. Additionally, the mode (which is the most frequent value in the distribution) is also equal to the mean and median in a normal distribution.\n",
    "\n",
    " Therefore, in a normal distribution, the mean, median, and mode are all the same value and represent the center of the distribution. This makes the mean a reliable measure of central tendency for normal data."
   ]
  },
  {
   "cell_type": "markdown",
   "id": "92496937-dabc-480d-8837-a734b5d194ea",
   "metadata": {},
   "source": [
    "![Skewness](https://upload.wikimedia.org/wikipedia/commons/thumb/c/cc/Relationship_between_mean_and_median_under_different_skewness.png/1200px-Relationship_between_mean_and_median_under_different_skewness.png)"
   ]
  },
  {
   "cell_type": "markdown",
   "id": "09c18d5d-3c87-4714-a250-af31ba50fed7",
   "metadata": {},
   "source": [
    "Q13. How is covariance different from correlation?\n"
   ]
  },
  {
   "cell_type": "markdown",
   "id": "f4b65906-e4a2-4826-bf9a-2fe6d6c59562",
   "metadata": {},
   "source": [
    " Difference in Covariance and Correlation is as follows :\n",
    "\n",
    "| Measure | Definition | Range |\n",
    "|---------|------------|-------|\n",
    "| Covariance | Measures the extent to which two variables vary together | $(-\\infty, \\infty)$ |\n",
    "| Correlation | Measures the strength of the linear relationship between two variables on a standardized scale | $[-1, 1]$ |"
   ]
  },
  {
   "cell_type": "markdown",
   "id": "5a119c4d-bd95-432d-b19d-494f2489e5f4",
   "metadata": {},
   "source": [
    " The main difference between covariance and correlation is that covariance is an unstandardized measure that reflects the direction and magnitude of the relationship between two variables, while correlation is a standardized measure that reflects only the strength and direction of the linear relationship between two variables."
   ]
  },
  {
   "cell_type": "markdown",
   "id": "7fe90b3b-a45d-4689-ace4-038afd37dd42",
   "metadata": {},
   "source": [
    "Q14. How do outliers affect measures of central tendency and dispersion? Provide an example.\n"
   ]
  },
  {
   "cell_type": "markdown",
   "id": "989efe39-4ce8-4cdd-8edf-bbeb7f94c2fb",
   "metadata": {},
   "source": [
    "Outliers can have a significant impact on measures of central tendency and dispersion, particularly the mean and standard deviation.\n",
    "\n",
    "In terms of central tendency, outliers can pull the mean away from the center of the data, making it a less representative measure of the typical value in the dataset. The effect of outliers on the median, however, is less pronounced, as the median is less affected by extreme values.\n",
    "\n",
    "In terms of dispersion, outliers can also have a significant impact on the standard deviation, which is a measure of the spread of the data around the mean. Because the standard deviation is influenced by the distance between each value and the mean, outliers that are far from the center of the data can cause the standard deviation to be larger than it would be without the outlier.\n",
    "\n",
    "Consider below example using heights dataset from Question 3 :"
   ]
  },
  {
   "cell_type": "code",
   "execution_count": 11,
   "id": "ab774047-eb8b-4463-96c0-173553b322d0",
   "metadata": {},
   "outputs": [],
   "source": [
    "heights = [178,177,176,177,178.2,178,175,179,180,175,178.9,176.2,177,172.5,178,176.5]"
   ]
  },
  {
   "cell_type": "code",
   "execution_count": 12,
   "id": "68da31cc-24b9-4a11-a033-02f441f2f5e8",
   "metadata": {},
   "outputs": [],
   "source": [
    "## Creating a function to calculate and return mean , median and mode for given list\n",
    "import numpy as np\n",
    "from scipy.stats import mode\n",
    "def central_tendency(l:list):\n",
    "    avg = np.mean(l)\n",
    "    mdn = np.median(l)\n",
    "    md = mode(l,keepdims=False)\n",
    "    return avg , mdn, md"
   ]
  },
  {
   "cell_type": "code",
   "execution_count": 13,
   "id": "8f456542-c1e2-4c96-a009-06e5c6790ae9",
   "metadata": {},
   "outputs": [
    {
     "name": "stdout",
     "output_type": "stream",
     "text": [
      "Mean of heights WITHOUT outlier is   : 177.01875\n",
      "Median of heights WITHOUT outlier is : 177.0\n",
      "Mode of heights WITHOUT outlier is   : ModeResult(mode=177.0, count=3)\n"
     ]
    }
   ],
   "source": [
    "# Central Tendency\n",
    "avg1, mdn1, md1 = central_tendency(heights)\n",
    "print(f'Mean of heights WITHOUT outlier is   : {avg1}')\n",
    "print(f'Median of heights WITHOUT outlier is : {mdn1}')\n",
    "print(f'Mode of heights WITHOUT outlier is   : {md1}') "
   ]
  },
  {
   "cell_type": "code",
   "execution_count": 14,
   "id": "ea43d28b-03a4-4575-8a6f-a1f2757f2262",
   "metadata": {},
   "outputs": [
    {
     "name": "stdout",
     "output_type": "stream",
     "text": [
      "Standard Deviation of heights WITHOUT outlier is : 1.7885814036548633\n"
     ]
    }
   ],
   "source": [
    "# Dispersion\n",
    "std1 = np.std(heights)\n",
    "print(f'Standard Deviation of heights WITHOUT outlier is : {std1}')"
   ]
  },
  {
   "cell_type": "markdown",
   "id": "566ce53b-1e6e-4738-b08e-9f6475884176",
   "metadata": {},
   "source": [
    " Adding a outlier to heights Data , added a 1000.0 as a height value as an outlier\n"
   ]
  },
  {
   "cell_type": "code",
   "execution_count": 15,
   "id": "2a2bc1a9-bf4c-4a03-9189-33bd095048b3",
   "metadata": {},
   "outputs": [
    {
     "name": "stdout",
     "output_type": "stream",
     "text": [
      "[178, 177, 176, 177, 178.2, 178, 175, 179, 180, 175, 178.9, 176.2, 177, 172.5, 178, 176.5, 1000.0]\n"
     ]
    }
   ],
   "source": [
    "import copy\n",
    "heights_2 = copy.deepcopy(heights)\n",
    "heights_2 = heights_2 + [1000.0]\n",
    "print(heights_2)"
   ]
  },
  {
   "cell_type": "code",
   "execution_count": 16,
   "id": "a7a7b76b-b80b-44d6-8da9-9b2123f82705",
   "metadata": {},
   "outputs": [
    {
     "name": "stdout",
     "output_type": "stream",
     "text": [
      "Mean of heights WITH outlier is   : 225.4294117647059\n",
      "Median of heights WITH outlier is : 177.0\n",
      "Mode of heights WITH outlier is   : ModeResult(mode=177.0, count=3)\n"
     ]
    }
   ],
   "source": [
    "# Central Tendency with Outlier\n",
    "avg2, mdn2, md2 = central_tendency(heights_2)\n",
    "print(f'Mean of heights WITH outlier is   : {avg2}')\n",
    "print(f'Median of heights WITH outlier is : {mdn2}')\n",
    "print(f'Mode of heights WITH outlier is   : {md2}') "
   ]
  },
  {
   "cell_type": "code",
   "execution_count": 17,
   "id": "192c33ec-385e-4256-8c16-ede7d0d64c55",
   "metadata": {},
   "outputs": [
    {
     "name": "stdout",
     "output_type": "stream",
     "text": [
      "Standard Deviation of heights WITHOUT outlier is : 193.65042113441513\n"
     ]
    }
   ],
   "source": [
    "# Dispersion with Outlier\n",
    "std2 = np.std(heights_2)\n",
    "print(f'Standard Deviation of heights WITHOUT outlier is : {std2}')"
   ]
  },
  {
   "cell_type": "markdown",
   "id": "3c120d71-8922-4216-9d8b-18f3526aabec",
   "metadata": {},
   "source": [
    "Comparison of Results with and without outliers"
   ]
  },
  {
   "cell_type": "code",
   "execution_count": 18,
   "id": "4add03ef-b2b2-4892-989a-5e7d2f3ad7c9",
   "metadata": {},
   "outputs": [],
   "source": [
    "comparison_dict = {\n",
    "    'Statistic':['Mean','Median','Mode','Standard Deviation'],\n",
    "    'Orignal' : [avg1,mdn1,md1[0],std1],\n",
    "    'Outlier' : [avg2,mdn2,md2[0],std2]    \n",
    "}"
   ]
  },
  {
   "cell_type": "code",
   "execution_count": 19,
   "id": "22b34d0c-97ff-4224-a821-58b25d59a5de",
   "metadata": {},
   "outputs": [
    {
     "data": {
      "text/html": [
       "<div>\n",
       "<style scoped>\n",
       "    .dataframe tbody tr th:only-of-type {\n",
       "        vertical-align: middle;\n",
       "    }\n",
       "\n",
       "    .dataframe tbody tr th {\n",
       "        vertical-align: top;\n",
       "    }\n",
       "\n",
       "    .dataframe thead th {\n",
       "        text-align: right;\n",
       "    }\n",
       "</style>\n",
       "<table border=\"1\" class=\"dataframe\">\n",
       "  <thead>\n",
       "    <tr style=\"text-align: right;\">\n",
       "      <th></th>\n",
       "      <th>Statistic</th>\n",
       "      <th>Orignal</th>\n",
       "      <th>Outlier</th>\n",
       "    </tr>\n",
       "  </thead>\n",
       "  <tbody>\n",
       "    <tr>\n",
       "      <th>0</th>\n",
       "      <td>Mean</td>\n",
       "      <td>177.018750</td>\n",
       "      <td>225.429412</td>\n",
       "    </tr>\n",
       "    <tr>\n",
       "      <th>1</th>\n",
       "      <td>Median</td>\n",
       "      <td>177.000000</td>\n",
       "      <td>177.000000</td>\n",
       "    </tr>\n",
       "    <tr>\n",
       "      <th>2</th>\n",
       "      <td>Mode</td>\n",
       "      <td>177.000000</td>\n",
       "      <td>177.000000</td>\n",
       "    </tr>\n",
       "    <tr>\n",
       "      <th>3</th>\n",
       "      <td>Standard Deviation</td>\n",
       "      <td>1.788581</td>\n",
       "      <td>193.650421</td>\n",
       "    </tr>\n",
       "  </tbody>\n",
       "</table>\n",
       "</div>"
      ],
      "text/plain": [
       "            Statistic     Orignal     Outlier\n",
       "0                Mean  177.018750  225.429412\n",
       "1              Median  177.000000  177.000000\n",
       "2                Mode  177.000000  177.000000\n",
       "3  Standard Deviation    1.788581  193.650421"
      ]
     },
     "execution_count": 19,
     "metadata": {},
     "output_type": "execute_result"
    }
   ],
   "source": [
    "import pandas as pd\n",
    "comparison_df = pd.DataFrame(comparison_dict)\n",
    "comparison_df"
   ]
  },
  {
   "cell_type": "code",
   "execution_count": 20,
   "id": "54e4a3df-d7a7-40c8-a24b-93a9f3616a4c",
   "metadata": {},
   "outputs": [
    {
     "data": {
      "text/html": [
       "<div>\n",
       "<style scoped>\n",
       "    .dataframe tbody tr th:only-of-type {\n",
       "        vertical-align: middle;\n",
       "    }\n",
       "\n",
       "    .dataframe tbody tr th {\n",
       "        vertical-align: top;\n",
       "    }\n",
       "\n",
       "    .dataframe thead th {\n",
       "        text-align: right;\n",
       "    }\n",
       "</style>\n",
       "<table border=\"1\" class=\"dataframe\">\n",
       "  <thead>\n",
       "    <tr style=\"text-align: right;\">\n",
       "      <th></th>\n",
       "      <th>Statistic</th>\n",
       "      <th>Orignal</th>\n",
       "      <th>Outlier</th>\n",
       "      <th>difference</th>\n",
       "    </tr>\n",
       "  </thead>\n",
       "  <tbody>\n",
       "    <tr>\n",
       "      <th>0</th>\n",
       "      <td>Mean</td>\n",
       "      <td>177.018750</td>\n",
       "      <td>225.429412</td>\n",
       "      <td>48.410662</td>\n",
       "    </tr>\n",
       "    <tr>\n",
       "      <th>1</th>\n",
       "      <td>Median</td>\n",
       "      <td>177.000000</td>\n",
       "      <td>177.000000</td>\n",
       "      <td>0.000000</td>\n",
       "    </tr>\n",
       "    <tr>\n",
       "      <th>2</th>\n",
       "      <td>Mode</td>\n",
       "      <td>177.000000</td>\n",
       "      <td>177.000000</td>\n",
       "      <td>0.000000</td>\n",
       "    </tr>\n",
       "    <tr>\n",
       "      <th>3</th>\n",
       "      <td>Standard Deviation</td>\n",
       "      <td>1.788581</td>\n",
       "      <td>193.650421</td>\n",
       "      <td>191.861840</td>\n",
       "    </tr>\n",
       "  </tbody>\n",
       "</table>\n",
       "</div>"
      ],
      "text/plain": [
       "            Statistic     Orignal     Outlier  difference\n",
       "0                Mean  177.018750  225.429412   48.410662\n",
       "1              Median  177.000000  177.000000    0.000000\n",
       "2                Mode  177.000000  177.000000    0.000000\n",
       "3  Standard Deviation    1.788581  193.650421  191.861840"
      ]
     },
     "execution_count": 20,
     "metadata": {},
     "output_type": "execute_result"
    }
   ],
   "source": [
    "comparison_df['difference']=comparison_df['Outlier']-comparison_df['Orignal']\n",
    "comparison_df"
   ]
  },
  {
   "cell_type": "markdown",
   "id": "9bad3d59-d452-40e2-a3dd-75f029eac674",
   "metadata": {},
   "source": [
    "Above results show that the outliers have a very strong impact on Mean and Standard Deviation for a given data."
   ]
  },
  {
   "cell_type": "code",
   "execution_count": null,
   "id": "0e14ff15-dcf0-49e0-8945-620969c33e39",
   "metadata": {},
   "outputs": [],
   "source": []
  }
 ],
 "metadata": {
  "kernelspec": {
   "display_name": "Python 3 (ipykernel)",
   "language": "python",
   "name": "python3"
  },
  "language_info": {
   "codemirror_mode": {
    "name": "ipython",
    "version": 3
   },
   "file_extension": ".py",
   "mimetype": "text/x-python",
   "name": "python",
   "nbconvert_exporter": "python",
   "pygments_lexer": "ipython3",
   "version": "3.11.7"
  }
 },
 "nbformat": 4,
 "nbformat_minor": 5
}
